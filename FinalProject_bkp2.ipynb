{
  "nbformat": 4,
  "nbformat_minor": 0,
  "metadata": {
    "colab": {
      "provenance": [],
      "authorship_tag": "ABX9TyMJjy+gJiXSOgvWaij/sZqi",
      "include_colab_link": true
    },
    "kernelspec": {
      "name": "python3",
      "display_name": "Python 3"
    },
    "language_info": {
      "name": "python"
    }
  },
  "cells": [
    {
      "cell_type": "markdown",
      "metadata": {
        "id": "view-in-github",
        "colab_type": "text"
      },
      "source": [
        "<a href=\"https://colab.research.google.com/github/Johny85/World-of-Scripts/blob/master/FinalProject_bkp2.ipynb\" target=\"_parent\"><img src=\"https://colab.research.google.com/assets/colab-badge.svg\" alt=\"Open In Colab\"/></a>"
      ]
    },
    {
      "cell_type": "code",
      "source": [
        "import pandas as pd\n",
        "import glob\n",
        "from AutoClean import AutoClean\n",
        "\n",
        "# Step 1: Read all the CSV files and combine them into a single DataFrame.\n",
        "file_list = glob.glob('*.csv')\n",
        "\n",
        "# Initialize an empty list to store the DataFrames.\n",
        "df_list = []\n",
        "\n",
        "# Loop through each file, read it into a DataFrame and add a 'City' column.\n",
        "for file in file_list:\n",
        "    city_name = file.replace('.csv', '')\n",
        "    df = pd.read_csv(file)\n",
        "    df['City'] = city_name\n",
        "    df_list.append(df)\n",
        "\n",
        "\n",
        "pipeline = AutoClean(df_list)\n",
        "pipeline.output"
      ],
      "metadata": {
        "id": "V2FMFcG2qpnm"
      },
      "execution_count": null,
      "outputs": []
    }
  ]
}