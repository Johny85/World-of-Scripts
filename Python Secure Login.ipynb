{
  "nbformat": 4,
  "nbformat_minor": 0,
  "metadata": {
    "colab": {
      "provenance": [],
      "authorship_tag": "ABX9TyMiDQQwrsZAyoJn4n4jrr1+",
      "include_colab_link": true
    },
    "kernelspec": {
      "name": "python3",
      "display_name": "Python 3"
    },
    "language_info": {
      "name": "python"
    }
  },
  "cells": [
    {
      "cell_type": "markdown",
      "metadata": {
        "id": "view-in-github",
        "colab_type": "text"
      },
      "source": [
        "<a href=\"https://colab.research.google.com/github/Johny85/World-of-Scripts/blob/master/Python%20Secure%20Login.ipynb\" target=\"_parent\"><img src=\"https://colab.research.google.com/assets/colab-badge.svg\" alt=\"Open In Colab\"/></a>"
      ]
    },
    {
      "cell_type": "code",
      "execution_count": null,
      "metadata": {
        "id": "QN398CrvRaPi"
      },
      "outputs": [],
      "source": [
        "### PYTHON Secure Login System ###"
      ]
    },
    {
      "cell_type": "code",
      "source": [
        "### Middle Tier ###\n",
        "\n",
        "import sqlite3\n",
        "import hashlib\n",
        "\n",
        "conn = sqlite3.connect(\"Main.db\")\n",
        "cur = conn.cursor()\n",
        "\n",
        "cur.execute(\"\"\"\n",
        "Create Table if not exists Profile (\n",
        "    id integer primary key,\n",
        "    username varchar not null,\n",
        "    password varchar not null\n",
        ")\n",
        "\"\"\")\n",
        "\n",
        "username1, password1 = \"John\", hashlib.sha256(\"password\".encode()).hexdigest()\n",
        "username2, password2 = \"TripleHHH\", hashlib.sha256(\"password\".encode()).hexdigest()\n",
        "username3, password3 = \"Randy\", hashlib.sha256(\"password\".encode()).hexdigest()\n",
        "username4, password4 = \"Undertaker\", hashlib.sha256(\"password\".encode()).hexdigest()\n",
        "username5, password5 = \"Batista\", hashlib.sha256(\"password\".encode()).hexdigest()\n",
        "\n",
        "cur.execute(\"Insert into Profile (username, password) values(?, ?)\", (username1, password1))\n",
        "cur.execute(\"Insert into Profile (username, password) values(?, ?)\", (username2, password2))\n",
        "cur.execute(\"Insert into Profile (username, password) values(?, ?)\", (username3, password3))\n",
        "cur.execute(\"Insert into Profile (username, password) values(?, ?)\", (username4, password4))\n",
        "cur.execute(\"Insert into Profile (username, password) values(?, ?)\", (username5, password5))\n",
        "\n",
        "conn.commit()"
      ],
      "metadata": {
        "id": "GeOCTobPRgYC"
      },
      "execution_count": null,
      "outputs": []
    },
    {
      "cell_type": "code",
      "source": [
        "### Server Side Script ###\n",
        "\n",
        "import sqlite3\n",
        "import hashlib\n",
        "import socket\n",
        "import threading\n",
        "\n",
        "server = socket.socket(socket.AF_INET, socket.SOCK_STREAM)\n",
        "server.bind((\"localhost\", 9999))\n",
        "\n",
        "server.listen()\n",
        "\n",
        "def handle_conn(c):\n",
        "    c.send(\"Username: \".encode())\n",
        "    username = c.recv(1024).decode()\n",
        "    c.send(\"Password: \".encode())\n",
        "    password = c.recv(1024)\n",
        "    password = hashlib.sha256(password).hexdigest()\n",
        "\n",
        "    conn = sqlite3.connect(\"Main.db\")\n",
        "    cur = conn.cursor()\n",
        "\n",
        "    cur.execute(\"Select * from Profile where username = ? and password = ?\", (username, password))\n",
        "\n",
        "    if cur.fetchall():\n",
        "        c.send(\"Login Successful!\". encode())\n",
        "    else:\n",
        "        c.send(\"Login Failed!\". encode())\n",
        "\n",
        "\n",
        "while True:\n",
        "    client, addr = server.accept()\n",
        "    threading.Thread(target=handle_conn, args=(client,)).start()"
      ],
      "metadata": {
        "id": "0H02p49fRrLY"
      },
      "execution_count": null,
      "outputs": []
    },
    {
      "cell_type": "code",
      "source": [
        "### Client Side Script ###\n",
        "\n",
        "import socket\n",
        "\n",
        "client = socket.socket(socket.AF_INET, socket.SOCK_STREAM)\n",
        "client.connect((\"localhost\", 9999))\n",
        "\n",
        "message = client.recv(1024).decode()\n",
        "client.send(input(message).encode())\n",
        "message = client.recv(1024).decode()\n",
        "client.send(input(message).encode())\n",
        "\n",
        "print(client.recv(1024).decode())"
      ],
      "metadata": {
        "id": "5QgFczJpRyXg"
      },
      "execution_count": null,
      "outputs": []
    }
  ]
}