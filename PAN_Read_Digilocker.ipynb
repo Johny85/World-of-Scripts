{
  "nbformat": 4,
  "nbformat_minor": 0,
  "metadata": {
    "colab": {
      "provenance": [],
      "authorship_tag": "ABX9TyMk5QSP+cHiID03j2jG0pKT",
      "include_colab_link": true
    },
    "kernelspec": {
      "name": "python3",
      "display_name": "Python 3"
    },
    "language_info": {
      "name": "python"
    }
  },
  "cells": [
    {
      "cell_type": "markdown",
      "metadata": {
        "id": "view-in-github",
        "colab_type": "text"
      },
      "source": [
        "<a href=\"https://colab.research.google.com/github/Johny85/World-of-Scripts/blob/master/PAN_Read_Digilocker.ipynb\" target=\"_parent\"><img src=\"https://colab.research.google.com/assets/colab-badge.svg\" alt=\"Open In Colab\"/></a>"
      ]
    },
    {
      "cell_type": "code",
      "execution_count": null,
      "metadata": {
        "id": "c0qr7XLJSkPK"
      },
      "outputs": [],
      "source": [
        "import os.path, time\n",
        "\n",
        "from pdf2image import convert_from_path\n",
        "from pytesseract import pytesseract\n",
        "from PIL import Image\n",
        "from pytesseract import image_to_string\n",
        "from pyzbar.pyzbar import decode\n",
        "\n",
        "\n",
        "tesseract_path = r\"C:\\\\Program Files\\\\Tesseract-OCR\\\\tesseract.exe\"\n",
        "pytesseract.tesseract_cmd = tesseract_path\n",
        "\n",
        "File1 = 'Pan3.pdf'\n",
        "\n",
        "CTime = time.ctime(os.path.getctime(File1))\n",
        "MTime = time.ctime(os.path.getmtime(File1))\n",
        "\n",
        "f = open(\"PAN_Read.txt\", \"w\")\n",
        "\n",
        "if CTime == MTime:\n",
        "    print(\"File seems unedited\", file=f)\n",
        "    print(\"File seems unedited\")\n",
        "else:\n",
        "    print(\"File seems edited\", file=f)\n",
        "    print(\"File seems edited\")\n",
        "\n",
        "print((\"File Created on: \", CTime), file=f)\n",
        "print(\"File Created on: \", CTime)\n",
        "print((\"File Modified on: \", MTime), file=f)\n",
        "print(\"File Modified on: \", MTime)\n",
        "\n",
        "f.close()\n",
        "\n",
        "\n",
        "def convert_pdf_to_img(pdf_file):\n",
        "    return convert_from_path(pdf_file, poppler_path=r'C:\\\\poppler-0.68.0\\\\bin')\n",
        "\n",
        "def convert_image_to_text(file):\n",
        "    text = image_to_string(file)\n",
        "    return text\n",
        "\n",
        "def get_text_from_any_pdf(pdf_file):\n",
        "    images = convert_pdf_to_img(pdf_file)\n",
        "    final_text = \"\"\n",
        "    for pg, img in enumerate(images):\n",
        "        final_text += convert_image_to_text(img)\n",
        "    \n",
        "    return final_text\n",
        "\n",
        "path_to_pdf = 'Pan3.pdf'\n",
        "\n",
        "f = open(\"PAN_Read.txt\", \"a\")\n",
        "print((get_text_from_any_pdf(path_to_pdf)), file=f)\n",
        "print(get_text_from_any_pdf(path_to_pdf))\n",
        "\n",
        "image = convert_from_path(path_to_pdf, poppler_path=r'C:\\\\poppler-0.68.0\\\\bin')\n",
        "\n",
        "for page in image:\n",
        "    page.save('out.jpg', 'JPEG')\n",
        "\n",
        "img = Image.open('out.jpg')\n",
        "result = decode(img)\n",
        "for i in result:\n",
        "    print(('QR Code Encrypted String: ' + i.data.decode(\"utf-8\")), file=f)\n",
        "    print('QR Code Encrypted String: ' + i.data.decode(\"utf-8\"))\n",
        "\n",
        "f.close()"
      ]
    }
  ]
}