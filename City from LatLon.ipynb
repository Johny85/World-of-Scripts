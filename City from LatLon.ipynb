{
  "nbformat": 4,
  "nbformat_minor": 0,
  "metadata": {
    "colab": {
      "name": "Untitled6.ipynb",
      "provenance": [],
      "authorship_tag": "ABX9TyNrJLGL9Dn+Pjb9B1GJ6X7L",
      "include_colab_link": true
    },
    "kernelspec": {
      "name": "python3",
      "display_name": "Python 3"
    },
    "language_info": {
      "name": "python"
    }
  },
  "cells": [
    {
      "cell_type": "markdown",
      "metadata": {
        "id": "view-in-github",
        "colab_type": "text"
      },
      "source": [
        "<a href=\"https://colab.research.google.com/github/Johny85/World-of-Scripts/blob/master/City%20from%20LatLon.ipynb\" target=\"_parent\"><img src=\"https://colab.research.google.com/assets/colab-badge.svg\" alt=\"Open In Colab\"/></a>"
      ]
    },
    {
      "cell_type": "code",
      "metadata": {
        "colab": {
          "base_uri": "https://localhost:8080/"
        },
        "id": "Sc4Y9Yy2vh1x",
        "outputId": "80c78fbe-9df7-40a3-823e-c6c9aa5868c3"
      },
      "source": [
        "from geopy.geocoders import Nominatim\n",
        "  \n",
        "geolocator = Nominatim(user_agent=\"geoapiExercises\")\n",
        "  \n",
        "  \n",
        "# Latitude & Longitude input\n",
        "Latitude = \"23.0467\"\n",
        "Longitude = \"88.8291\"\n",
        "  \n",
        "location = geolocator.reverse(Latitude+\",\"+Longitude)\n",
        "  \n",
        "address = location.raw['address']\n",
        "  \n",
        "# traverse the data\n",
        "city = address.get('city', '')\n",
        "state = address.get('state', '')\n",
        "country = address.get('country', '')\n",
        "code = address.get('country_code')\n",
        "zipcode = address.get('postcode')\n",
        "print('City : ', city)\n",
        "print('State : ', state)\n",
        "print('Country : ', country)\n",
        "print('Zip Code : ', zipcode)"
      ],
      "execution_count": 5,
      "outputs": [
        {
          "output_type": "stream",
          "name": "stdout",
          "text": [
            "City :  Bangaon\n",
            "State :  West Bengal\n",
            "Country :  India\n",
            "Zip Code :  None\n"
          ]
        }
      ]
    }
  ]
}