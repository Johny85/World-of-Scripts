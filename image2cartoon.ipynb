{
  "nbformat": 4,
  "nbformat_minor": 0,
  "metadata": {
    "colab": {
      "name": "Untitled5.ipynb",
      "provenance": [],
      "authorship_tag": "ABX9TyPvCjUUXmJ8kBU7gxFL4aSo",
      "include_colab_link": true
    },
    "kernelspec": {
      "name": "python3",
      "display_name": "Python 3"
    },
    "language_info": {
      "name": "python"
    }
  },
  "cells": [
    {
      "cell_type": "markdown",
      "metadata": {
        "id": "view-in-github",
        "colab_type": "text"
      },
      "source": [
        "<a href=\"https://colab.research.google.com/github/Johny85/World-of-Scripts/blob/master/image2cartoon.ipynb\" target=\"_parent\"><img src=\"https://colab.research.google.com/assets/colab-badge.svg\" alt=\"Open In Colab\"/></a>"
      ]
    },
    {
      "cell_type": "code",
      "metadata": {
        "id": "qg-kxhLU7fwV"
      },
      "source": [
        "import cv2\n",
        "import numpy as np\n",
        "\n",
        "img = cv2.imread(\"IMG1.jpeg\")\n",
        "\n",
        "gray = cv2.cvtColor(img, cv2.COLOR_BGR2GRAY)\n",
        "gray = cv2.medianBlur(gray,5)\n",
        "edges = cv2.adaptive Threshold(gray, 255, cv2.ADAPTIVE_THRESH_MEAN_C, cv2.THRESH_BINARY,9,9)\n",
        "\n",
        "color = cv2.bilateralFilter(img, 9, 250, 250)\n",
        "\n",
        "cartoon = cv2.bitwise_and(color, color, mask = edges)\n",
        "\n",
        "cv2.imshow(\"Image\", img)\n",
        "cv2.imshow(\"edges\", edges)\n",
        "cv2.imshow(\"Cartoon\", cartoon)\n",
        "\n",
        "cv2.waitkey(0)\n",
        "cv2.destroyallwindows()"
      ],
      "execution_count": null,
      "outputs": []
    }
  ]
}