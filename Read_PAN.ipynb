{
  "nbformat": 4,
  "nbformat_minor": 0,
  "metadata": {
    "colab": {
      "provenance": [],
      "authorship_tag": "ABX9TyNSbCUzQgT6NBPaUctMEk1C",
      "include_colab_link": true
    },
    "kernelspec": {
      "name": "python3",
      "display_name": "Python 3"
    },
    "language_info": {
      "name": "python"
    }
  },
  "cells": [
    {
      "cell_type": "markdown",
      "metadata": {
        "id": "view-in-github",
        "colab_type": "text"
      },
      "source": [
        "<a href=\"https://colab.research.google.com/github/Johny85/World-of-Scripts/blob/master/Read_PAN.ipynb\" target=\"_parent\"><img src=\"https://colab.research.google.com/assets/colab-badge.svg\" alt=\"Open In Colab\"/></a>"
      ]
    },
    {
      "cell_type": "code",
      "source": [
        "# read the images with text\n",
        "import pytesseract\n",
        "import cv2\n",
        "\n",
        "img = cv2.imread('/content/PAN_Card/PC.jpg')\n",
        "\n",
        "def ocr(img):\n",
        "  text = pytesseract.image_to_string(img)\n",
        "  return text\n",
        "\n",
        "def gs(img):\n",
        "  return cv2.cvtColor(img, cv2.COLOR_BGR2GRAY)\n",
        "\n",
        "\n",
        "def thrsh(img):\n",
        "  return cv2.threshold(img, 0, 255, cv2.THRESH_BINARY + cv2.THRESH_OTSU)[1]\n",
        "\n",
        "def noise_rev(img):\n",
        "  return cv2.medianBlur(img, 5)\n",
        "\n",
        "img = gs(img)\n",
        "img = thrsh(img)\n",
        "img = noise_rev(img)\n",
        "\n",
        "print(ocr)"
      ],
      "metadata": {
        "colab": {
          "base_uri": "https://localhost:8080/"
        },
        "id": "CSckSSDgqFNI",
        "outputId": "4e50c4b4-7cea-40ce-bc61-694fcc1984a5"
      },
      "execution_count": 4,
      "outputs": [
        {
          "output_type": "stream",
          "name": "stdout",
          "text": [
            "<function ocr at 0x7f8a8fbd7280>\n"
          ]
        }
      ]
    }
  ]
}