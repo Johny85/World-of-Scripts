{
  "nbformat": 4,
  "nbformat_minor": 0,
  "metadata": {
    "colab": {
      "name": "Untitled8.ipynb",
      "provenance": [],
      "authorship_tag": "ABX9TyNoowg/pJhj/XCQldsHECYY",
      "include_colab_link": true
    },
    "kernelspec": {
      "name": "python3",
      "display_name": "Python 3"
    },
    "language_info": {
      "name": "python"
    }
  },
  "cells": [
    {
      "cell_type": "markdown",
      "metadata": {
        "id": "view-in-github",
        "colab_type": "text"
      },
      "source": [
        "<a href=\"https://colab.research.google.com/github/Johny85/World-of-Scripts/blob/master/email_slice.ipynb\" target=\"_parent\"><img src=\"https://colab.research.google.com/assets/colab-badge.svg\" alt=\"Open In Colab\"/></a>"
      ]
    },
    {
      "cell_type": "code",
      "metadata": {
        "id": "uK0hcaevpS7I"
      },
      "source": [
        "email = input(\"Enter Your Email ID: \")\n",
        "\n",
        "# remove spaces from mail id\n",
        "email = email.strip()\n",
        "\n",
        "Print(\"Mail Id before slice is: \",email)\n",
        "\n",
        "slicer_index = email.index(\"@\")\n",
        "\n",
        "username = email[:slicer_index]\n",
        "domain = email[slicer_index+1:]\n",
        "\n",
        "print(\"User Name After Slice is: \", username)\n",
        "print(\"Domain Name After Slice is: \", domain)"
      ],
      "execution_count": null,
      "outputs": []
    }
  ]
}