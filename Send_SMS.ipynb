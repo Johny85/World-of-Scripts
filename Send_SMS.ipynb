{
  "nbformat": 4,
  "nbformat_minor": 0,
  "metadata": {
    "colab": {
      "name": "Untitled2.ipynb",
      "provenance": [],
      "collapsed_sections": [],
      "authorship_tag": "ABX9TyOuc17RmBuTKQ6rn2JKO7Lp",
      "include_colab_link": true
    },
    "kernelspec": {
      "name": "python3",
      "display_name": "Python 3"
    },
    "language_info": {
      "name": "python"
    }
  },
  "cells": [
    {
      "cell_type": "markdown",
      "metadata": {
        "id": "view-in-github",
        "colab_type": "text"
      },
      "source": [
        "<a href=\"https://colab.research.google.com/github/Johny85/World-of-Scripts/blob/master/Send_SMS.ipynb\" target=\"_parent\"><img src=\"https://colab.research.google.com/assets/colab-badge.svg\" alt=\"Open In Colab\"/></a>"
      ]
    },
    {
      "cell_type": "code",
      "metadata": {
        "id": "qWVk4T8oRg_z"
      },
      "source": [
        "import request\n",
        "import json\n",
        "\n",
        "url = \"https://www.fast2sms.com/dev/bulk\"\n",
        "\n",
        "my_data = {\n",
        "    'sender_id' : 'Pritimay',\n",
        "    'message' : 'Test Message 1',\n",
        "    'language' : 'english',\n",
        "    'route' : 'p',\n",
        "    'numbers' : '9886965812, 8073525980'\n",
        "}\n",
        "\n"
      ],
      "execution_count": null,
      "outputs": []
    }
  ]
}